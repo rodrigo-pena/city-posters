{
 "cells": [
  {
   "cell_type": "markdown",
   "metadata": {},
   "source": [
    "# Making city posters"
   ]
  },
  {
   "cell_type": "code",
   "execution_count": null,
   "metadata": {},
   "outputs": [],
   "source": [
    "%reload_ext autoreload\n",
    "%autoreload 2\n",
    "\n",
    "from srai.regionalizers import geocode_to_region_gdf\n",
    "from srai.loaders.osm_loaders.filters import BASE_OSM_GROUPS_FILTER\n",
    "from srai.loaders import OSMPbfLoader\n",
    "\n",
    "import matplotlib.pyplot as plt\n",
    "\n",
    "import utils\n",
    "import warnings\n",
    "warnings.simplefilter(\"ignore\")\n",
    "\n",
    "# Paper sizes\n",
    "A4 = (297, 210) # (height, width) in mm\n",
    "A3 = (420, 297) # (height, width) in mm\n",
    "A2 = (594, 420) # (height, width) in mm\n",
    "A1 = (841, 594) # (height, width) in mm\n",
    "A0 = (1189, 841) # (height, width) in mm"
   ]
  },
  {
   "cell_type": "markdown",
   "metadata": {},
   "source": [
    "## First example: Plano Piloto (Brasília)"
   ]
  },
  {
   "cell_type": "markdown",
   "metadata": {},
   "source": [
    "Specify the city"
   ]
  },
  {
   "cell_type": "code",
   "execution_count": null,
   "metadata": {},
   "outputs": [],
   "source": [
    "CITY = \"Plano Piloto\"\n",
    "COUNTRY = \"Brazil\"\n",
    "\n",
    "area_name = f\"{CITY}, {COUNTRY}\"\n",
    "area_name"
   ]
  },
  {
   "cell_type": "markdown",
   "metadata": {},
   "source": [
    "Download the area and plot it interactively, to see if the region you want has been captured correctly."
   ]
  },
  {
   "cell_type": "code",
   "execution_count": null,
   "metadata": {},
   "outputs": [],
   "source": [
    "area = geocode_to_region_gdf(area_name)\n",
    "area.explore(height=A2[0], width=A2[1])"
   ]
  },
  {
   "cell_type": "markdown",
   "metadata": {},
   "source": [
    "We can filter city properties to plo using standardized feature names. You can check possible names in the `BASE_OSM_GROUPS_FILTER` dictionary in the `srai` package."
   ]
  },
  {
   "cell_type": "code",
   "execution_count": null,
   "metadata": {},
   "outputs": [],
   "source": [
    "print(\"Possible feature filter names:\")\n",
    "for key in BASE_OSM_GROUPS_FILTER.keys():\n",
    "    print(key)\n",
    "    for child_key in BASE_OSM_GROUPS_FILTER[key].keys():\n",
    "        print(\"\\t\" + str(child_key))\n",
    "        try:\n",
    "            for item in BASE_OSM_GROUPS_FILTER[key][child_key]:\n",
    "                print(\"\\t\\t\" + str(item))\n",
    "        except TypeError:\n",
    "            pass\n",
    "    print()"
   ]
  },
  {
   "cell_type": "markdown",
   "metadata": {},
   "source": [
    "You can access these properties from the `area` we downloaded earlier via a `OSMPbfLoader()` object. Simply pass the filter names you want to use to the latter's `.load()` method as dictionary keys, setting their values to `True` (otherwise, they are `False` by default)."
   ]
  },
  {
   "cell_type": "code",
   "execution_count": null,
   "metadata": {},
   "outputs": [],
   "source": [
    "features = (\n",
    "    OSMPbfLoader()\n",
    "    .load(area, {\"highway\": True, \"water\": True, \"waterway\": True})\n",
    "    .clip(area)\n",
    ")\n",
    "features.head(3)"
   ]
  },
  {
   "cell_type": "markdown",
   "metadata": {},
   "source": [
    "We can see these features in an interactive map, to check if they are what we want, or if they where properly captured."
   ]
  },
  {
   "cell_type": "code",
   "execution_count": null,
   "metadata": {},
   "outputs": [],
   "source": [
    "features.explore(height=A2[0], width=A2[1])"
   ]
  },
  {
   "cell_type": "markdown",
   "metadata": {},
   "source": [
    "Once the desired features are been selected, we can draw the corresponding poster using the function `utils.plot_poster`"
   ]
  },
  {
   "cell_type": "code",
   "execution_count": null,
   "metadata": {},
   "outputs": [],
   "source": [
    "# Check the lat/lon range of the features\n",
    "xmin, ymin, xmax, ymax = features.total_bounds\n",
    "print(f\"X range: {xmin:.2f} to {xmax:.2f}\")\n",
    "print(f\"Y range: {ymin:.2f} to {ymax:.2f}\")"
   ]
  },
  {
   "cell_type": "code",
   "execution_count": null,
   "metadata": {},
   "outputs": [],
   "source": [
    "# Adapt coordinate limits so it plots well\n",
    "xmin = -47.96\n",
    "xdiff = xmax - xmin\n",
    "ydiff = xdiff * A2[0] / A2[1]\n",
    "ymin = -15.91\n",
    "ymax = ymin + ydiff"
   ]
  },
  {
   "cell_type": "code",
   "execution_count": null,
   "metadata": {},
   "outputs": [],
   "source": [
    "# Set figure size to display here\n",
    "reduce_fator = 40\n",
    "figsize = (A2[1] / reduce_fator, A2[0] / reduce_fator)\n",
    "\n",
    "# Plot the poster\n",
    "ax = utils.plot_poster(features,\n",
    "                       xlim=(xmin, xmax),\n",
    "                       ylim=(ymin, ymax),\n",
    "                       figsize=figsize,)\n",
    "plt.savefig(\"poster_plano-piloto.pdf\", bbox_inches=\"tight\", dpi=300)\n",
    "plt.show()"
   ]
  },
  {
   "cell_type": "markdown",
   "metadata": {},
   "source": [
    "## Second example: Warsaw (Poland)"
   ]
  },
  {
   "cell_type": "code",
   "execution_count": null,
   "metadata": {},
   "outputs": [],
   "source": [
    "CITY = \"Warsaw\"\n",
    "COUNTRY = \"Poland\"\n",
    "\n",
    "area_name = f\"{CITY}, {COUNTRY}\"\n",
    "area_name"
   ]
  },
  {
   "cell_type": "code",
   "execution_count": null,
   "metadata": {},
   "outputs": [],
   "source": [
    "area = geocode_to_region_gdf(area_name)\n",
    "area.explore(height=A2[0], width=A2[1])"
   ]
  },
  {
   "cell_type": "code",
   "execution_count": null,
   "metadata": {},
   "outputs": [],
   "source": [
    "print(\"Possible feature filter names:\")\n",
    "for key in BASE_OSM_GROUPS_FILTER.keys():\n",
    "    print(key)\n",
    "    for child_key in BASE_OSM_GROUPS_FILTER[key].keys():\n",
    "        print(\"\\t\" + str(child_key))\n",
    "        try:\n",
    "            for item in BASE_OSM_GROUPS_FILTER[key][child_key]:\n",
    "                print(\"\\t\\t\" + str(item))\n",
    "        except TypeError:\n",
    "            pass\n",
    "    print()"
   ]
  },
  {
   "cell_type": "code",
   "execution_count": null,
   "metadata": {},
   "outputs": [],
   "source": [
    "features = (\n",
    "    OSMPbfLoader()\n",
    "    .load(area, {\"highway\": True, \"water\": True, \"waterway\": True})\n",
    "    .clip(area)\n",
    ")\n",
    "features.head(3)"
   ]
  },
  {
   "cell_type": "code",
   "execution_count": null,
   "metadata": {},
   "outputs": [],
   "source": [
    "features.explore(height=A2[0], width=A2[1])"
   ]
  },
  {
   "cell_type": "code",
   "execution_count": null,
   "metadata": {},
   "outputs": [],
   "source": [
    "# Check the lat/lon range of the features\n",
    "xmin, ymin, xmax, ymax = features.total_bounds\n",
    "print(f\"X range: {xmin:.2f} to {xmax:.2f}\")\n",
    "print(f\"Y range: {ymin:.2f} to {ymax:.2f}\")"
   ]
  },
  {
   "cell_type": "code",
   "execution_count": null,
   "metadata": {},
   "outputs": [],
   "source": [
    "# Adapt coordinate limits so it plots well\n",
    "xmin = xmin - 0.05\n",
    "xmax = xmax + 0.05\n",
    "# xdiff = xmax - xmin\n",
    "# ydiff = xdiff * A2[0] / A2[1]\n",
    "# ycenter = (ymin + ymax) / 2\n",
    "# ymax = ycenter + ydiff / 2\n",
    "# ymin = ycenter - ydiff / 2\n",
    "ymin = ymin - 0.05\n",
    "ymax = ymax + 0.05"
   ]
  },
  {
   "cell_type": "code",
   "execution_count": null,
   "metadata": {},
   "outputs": [],
   "source": [
    "# Set figure size to display here\n",
    "reduce_fator = 40\n",
    "figsize = (A2[1] / reduce_fator, A2[0] / reduce_fator)\n",
    "\n",
    "# Plot the poster\n",
    "ax = utils.plot_poster(\n",
    "    features,\n",
    "    feature_props = {\n",
    "        \"water\": {\"color\": \"#a8e1e6\"},\n",
    "        \"waterway\": {\"color\": \"#a8e1e6\"},\n",
    "        \"highway\": {\n",
    "            \"color\": \"#181818\",\n",
    "            \"markersize\": 0.025,\n",
    "        },\n",
    "    },\n",
    "    xlim=(xmin, xmax),\n",
    "    ylim=(ymin, ymax),\n",
    "    figsize=figsize,\n",
    ")\n",
    "plt.savefig(\"poster_warsaw.pdf\", bbox_inches=\"tight\", dpi=300)\n",
    "plt.show()"
   ]
  },
  {
   "cell_type": "code",
   "execution_count": null,
   "metadata": {},
   "outputs": [],
   "source": []
  }
 ],
 "metadata": {
  "kernelspec": {
   "display_name": "cityposters",
   "language": "python",
   "name": "python3"
  },
  "language_info": {
   "codemirror_mode": {
    "name": "ipython",
    "version": 3
   },
   "file_extension": ".py",
   "mimetype": "text/x-python",
   "name": "python",
   "nbconvert_exporter": "python",
   "pygments_lexer": "ipython3",
   "version": "3.11.7"
  },
  "orig_nbformat": 4
 },
 "nbformat": 4,
 "nbformat_minor": 2
}
