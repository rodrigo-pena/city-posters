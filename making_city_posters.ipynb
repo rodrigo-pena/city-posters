{
 "cells": [
  {
   "cell_type": "markdown",
   "metadata": {},
   "source": [
    "# Making city posters"
   ]
  },
  {
   "cell_type": "code",
   "execution_count": null,
   "metadata": {},
   "outputs": [],
   "source": [
    "%load_ext autoreload\n",
    "%autoreload 2\n",
    "\n",
    "from srai.regionalizers import geocode_to_region_gdf\n",
    "from srai.loaders.osm_loaders.filters import BASE_OSM_GROUPS_FILTER\n",
    "from srai.loaders import OSMPbfLoader\n",
    "\n",
    "import matplotlib.pyplot as plt\n",
    "\n",
    "import utils\n",
    "import warnings\n",
    "warnings.simplefilter(\"ignore\")\n",
    "\n",
    "# Paper sizes\n",
    "A4 = (297, 210) # (height, width) in mm\n",
    "A3 = (420, 297) # (height, width) in mm\n",
    "A2 = (594, 420) # (height, width) in mm\n",
    "A1 = (841, 594) # (height, width) in mm\n",
    "A0 = (1189, 841) # (height, width) in mm"
   ]
  },
  {
   "cell_type": "markdown",
   "metadata": {},
   "source": [
    "## Load the city data"
   ]
  },
  {
   "cell_type": "markdown",
   "metadata": {},
   "source": [
    "Specify the city"
   ]
  },
  {
   "cell_type": "code",
   "execution_count": null,
   "metadata": {},
   "outputs": [],
   "source": [
    "CITY = \"Basel\"\n",
    "COUNTRY = \"Switzerland\"\n",
    "\n",
    "area_name = f\"{CITY}, {COUNTRY}\"\n",
    "area_name"
   ]
  },
  {
   "cell_type": "markdown",
   "metadata": {},
   "source": [
    "Download the area and plot it interactively, to see if the region you want has been captured correctly."
   ]
  },
  {
   "cell_type": "code",
   "execution_count": null,
   "metadata": {},
   "outputs": [],
   "source": [
    "area = geocode_to_region_gdf(area_name)\n",
    "area.explore(height=A2[0], width=A2[1])"
   ]
  },
  {
   "cell_type": "markdown",
   "metadata": {},
   "source": [
    "We can filter city properties to plo using standardized feature names. You can check possible names in the `BASE_OSM_GROUPS_FILTER` dictionary in the `srai` package."
   ]
  },
  {
   "cell_type": "code",
   "execution_count": null,
   "metadata": {},
   "outputs": [],
   "source": [
    "print(\"Possible feature filter names:\")\n",
    "for key in BASE_OSM_GROUPS_FILTER.keys():\n",
    "    print(key)\n",
    "    for child_key in BASE_OSM_GROUPS_FILTER[key].keys():\n",
    "        print(\"\\t\" + str(child_key))\n",
    "        try:\n",
    "            for item in BASE_OSM_GROUPS_FILTER[key][child_key]:\n",
    "                print(\"\\t\\t\" + str(item))\n",
    "        except TypeError:\n",
    "            pass\n",
    "    print()"
   ]
  },
  {
   "cell_type": "markdown",
   "metadata": {},
   "source": [
    "You can access these properties from the `area` we downloaded earlier via a `OSMPbfLoader()` object. Simply pass the filter names you want to use to the latter's `.load()` method as dictionary keys, setting their values to `True` (otherwise, they are `False` by default)."
   ]
  },
  {
   "cell_type": "code",
   "execution_count": null,
   "metadata": {},
   "outputs": [],
   "source": [
    "features = (\n",
    "    OSMPbfLoader()\n",
    "    .load(area, {\"highway\": True, \"water\": True, \"waterway\": True})\n",
    "    .clip(area)\n",
    ")\n",
    "features.head(3)"
   ]
  },
  {
   "cell_type": "code",
   "execution_count": null,
   "metadata": {},
   "outputs": [],
   "source": [
    "features.explore(height=A2[0], width=A2[1])"
   ]
  },
  {
   "cell_type": "markdown",
   "metadata": {},
   "source": [
    "Once the desired features are been selected, we can draw the corresponding poster using the function `utils.plot_poster`"
   ]
  },
  {
   "cell_type": "code",
   "execution_count": null,
   "metadata": {},
   "outputs": [],
   "source": [
    "ax = utils.plot_poster(features, CITY, COUNTRY, with_text=False)\n",
    "plt.savefig(\"poster.png\", dpi=300)\n",
    "plt.show()"
   ]
  },
  {
   "cell_type": "code",
   "execution_count": null,
   "metadata": {},
   "outputs": [],
   "source": []
  }
 ],
 "metadata": {
  "kernelspec": {
   "display_name": "cityposters",
   "language": "python",
   "name": "python3"
  },
  "language_info": {
   "codemirror_mode": {
    "name": "ipython",
    "version": 3
   },
   "file_extension": ".py",
   "mimetype": "text/x-python",
   "name": "python",
   "nbconvert_exporter": "python",
   "pygments_lexer": "ipython3",
   "version": "3.11.4"
  },
  "orig_nbformat": 4
 },
 "nbformat": 4,
 "nbformat_minor": 2
}
