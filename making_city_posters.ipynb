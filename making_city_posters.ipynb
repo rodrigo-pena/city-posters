{
 "cells": [
  {
   "cell_type": "markdown",
   "metadata": {},
   "source": [
    "# Making city posters"
   ]
  },
  {
   "cell_type": "code",
   "execution_count": null,
   "metadata": {},
   "outputs": [],
   "source": [
    "%reload_ext autoreload\n",
    "%autoreload 2\n",
    "\n",
    "from srai.regionalizers import geocode_to_region_gdf\n",
    "from srai.loaders.osm_loaders.filters import BASE_OSM_GROUPS_FILTER\n",
    "from srai.loaders import OSMPbfLoader\n",
    "\n",
    "import numpy as np\n",
    "\n",
    "import utils\n",
    "import warnings\n",
    "warnings.simplefilter(\"ignore\")\n",
    "\n",
    "# Paper size as global variable\n",
    "PAPER_SIZE = utils.PAPER_SIZES['A2']"
   ]
  },
  {
   "cell_type": "markdown",
   "metadata": {},
   "source": [
    "## Example: Plano Piloto (Brasília)"
   ]
  },
  {
   "cell_type": "markdown",
   "metadata": {},
   "source": [
    "Specify the city"
   ]
  },
  {
   "cell_type": "code",
   "execution_count": null,
   "metadata": {},
   "outputs": [],
   "source": [
    "CITY = \"Plano Piloto\"\n",
    "COUNTRY = \"Brazil\"\n",
    "\n",
    "area_name = f\"{CITY}, {COUNTRY}\"\n",
    "area_name"
   ]
  },
  {
   "cell_type": "markdown",
   "metadata": {},
   "source": [
    "Download the area and plot it interactively, to see if the region you want has been captured correctly."
   ]
  },
  {
   "cell_type": "code",
   "execution_count": null,
   "metadata": {},
   "outputs": [],
   "source": [
    "area = geocode_to_region_gdf(area_name)\n",
    "area.explore(height=PAPER_SIZE[0], width=PAPER_SIZE[1])"
   ]
  },
  {
   "cell_type": "markdown",
   "metadata": {},
   "source": [
    "We can filter city properties to plo using standardized feature names. You can check possible names in the `BASE_OSM_GROUPS_FILTER` dictionary in the `srai` package."
   ]
  },
  {
   "cell_type": "code",
   "execution_count": null,
   "metadata": {},
   "outputs": [],
   "source": [
    "print(\"Possible feature filter names:\")\n",
    "for key in BASE_OSM_GROUPS_FILTER.keys():\n",
    "    print(\"  \" + key)\n",
    "    for child_key in BASE_OSM_GROUPS_FILTER[key].keys():\n",
    "        print(\"    \" + str(child_key))\n",
    "        try:\n",
    "            for item in BASE_OSM_GROUPS_FILTER[key][child_key]:\n",
    "                print(\"      \" + str(item))\n",
    "        except TypeError:\n",
    "            pass\n",
    "    print()"
   ]
  },
  {
   "cell_type": "markdown",
   "metadata": {},
   "source": [
    "You can access these properties from the `area` we downloaded earlier via a `OSMPbfLoader()` object. Simply pass the filter names you want to use to the latter's `.load()` method as dictionary keys, setting their values to `True` (otherwise, they are `False` by default)."
   ]
  },
  {
   "cell_type": "code",
   "execution_count": null,
   "metadata": {},
   "outputs": [],
   "source": [
    "features = (\n",
    "    OSMPbfLoader()\n",
    "    .load(area, {\"highway\": True, \"water\": True, \"waterway\": True})\n",
    "    .clip(area)\n",
    ")\n",
    "features.head(3)"
   ]
  },
  {
   "cell_type": "markdown",
   "metadata": {},
   "source": [
    "We can see these features in an interactive map, to check if they are what we want, or if they where properly captured."
   ]
  },
  {
   "cell_type": "code",
   "execution_count": null,
   "metadata": {},
   "outputs": [],
   "source": [
    "features.explore(height=PAPER_SIZE[0], width=PAPER_SIZE[1])"
   ]
  },
  {
   "cell_type": "markdown",
   "metadata": {},
   "source": [
    "Once the desired features are been selected, we can draw the corresponding poster using the function `utils.plot_poster`"
   ]
  },
  {
   "cell_type": "code",
   "execution_count": null,
   "metadata": {},
   "outputs": [],
   "source": [
    "# Check the lat/lon range of the features\n",
    "lon_min, lat_min, lon_max, lat_max = features.total_bounds\n",
    "print(f\"Lat range: {lat_min:.2f} to {lat_max:.2f}\")\n",
    "print(f\"Lon range: {lon_min:.2f} to {lon_max:.2f}\")"
   ]
  },
  {
   "cell_type": "code",
   "execution_count": null,
   "metadata": {},
   "outputs": [],
   "source": [
    "# Pin center to get a better picture\n",
    "# pin_center = None  # Set this to None to disable pinning\n",
    "pin_center = (-47.870, -15.785)  # (lon, lat)\n",
    "\n",
    "pin_center = utils.parse_pin_center(pin_center,\n",
    "                                    lat_min,\n",
    "                                    lat_max,\n",
    "                                    lon_min,\n",
    "                                    lon_max)"
   ]
  },
  {
   "cell_type": "code",
   "execution_count": null,
   "metadata": {},
   "outputs": [],
   "source": [
    "# Set zoom level to better center the map\n",
    "lat_min, lat_max, lon_min, lon_max = utils.zoom(\n",
    "    lat_min,\n",
    "    lat_max,\n",
    "    lon_min,\n",
    "    lon_max,\n",
    "    pin_center,\n",
    "    zoom_level=.5\n",
    ")\n",
    "print(f\"Lat range: {lat_min:.2f} to {lat_max:.2f}\")\n",
    "print(f\"Lon range: {lon_max:.2f} to {lon_max:.2f}\")"
   ]
  },
  {
   "cell_type": "code",
   "execution_count": null,
   "metadata": {},
   "outputs": [],
   "source": [
    "# Set figure size to display here\n",
    "reduce_factor = 45\n",
    "figsize = tuple(np.array(PAPER_SIZE) / reduce_factor)\n",
    "\n",
    "# Plot the poster\n",
    "fig, ax = utils.plot_poster(\n",
    "    features,\n",
    "    feature_props = {\n",
    "        \"water\": {\"color\": \"#a8e1e6\"},\n",
    "        \"waterway\": {\"color\": \"#a8e1e6\"},\n",
    "        \"highway\": {\n",
    "            \"color\": \"#181818\",\n",
    "            \"linewidth\": 0.5,\n",
    "            \"markersize\": 0.5,\n",
    "            },\n",
    "    },\n",
    "    lat_lim=(lat_min, lat_max),\n",
    "    lon_lim=(lon_min, lon_max),\n",
    "    figsize=figsize,\n",
    "    # show_axis=True,  # Use this for debugging. Set to False for final version\n",
    ")\n",
    "\n",
    "# Save the figure\n",
    "fig.savefig(\"poster.pdf\",\n",
    "            bbox_inches=\"tight\",\n",
    "            pad_inches=0,\n",
    "            dpi=300)\n",
    "\n",
    "fig.show()"
   ]
  },
  {
   "cell_type": "markdown",
   "metadata": {},
   "source": [
    "## Explore other cities"
   ]
  },
  {
   "cell_type": "code",
   "execution_count": null,
   "metadata": {},
   "outputs": [],
   "source": [
    "CITY = \"Warsaw\"\n",
    "COUNTRY = \"Poland\"\n",
    "\n",
    "area_name = f\"{CITY}, {COUNTRY}\"\n",
    "area_name"
   ]
  },
  {
   "cell_type": "code",
   "execution_count": null,
   "metadata": {},
   "outputs": [],
   "source": [
    "area = geocode_to_region_gdf(area_name)\n",
    "features = (\n",
    "    OSMPbfLoader()\n",
    "    .load(area, {\"highway\": True, \"water\": True, \"waterway\": True})\n",
    "    .clip(area)\n",
    ")\n",
    "features.head(3)"
   ]
  },
  {
   "cell_type": "code",
   "execution_count": null,
   "metadata": {},
   "outputs": [],
   "source": [
    "# Check the lat/lon range of the features\n",
    "lon_min, lat_min, lon_max, lat_max = features.total_bounds\n",
    "print(f\"Lat range: {lat_min:.2f} to {lat_max:.2f}\")\n",
    "print(f\"Lon range: {lon_min:.2f} to {lon_max:.2f}\")"
   ]
  },
  {
   "cell_type": "code",
   "execution_count": null,
   "metadata": {},
   "outputs": [],
   "source": [
    "# Pin center to get a better picture\n",
    "pin_center = None  # Set this to None to disable pinning\n",
    "# pin_center = (-47.870, -15.785)  # (lon, lat)\n",
    "\n",
    "pin_center = utils.parse_pin_center(pin_center,\n",
    "                                    lat_min,\n",
    "                                    lat_max,\n",
    "                                    lon_min,\n",
    "                                    lon_max)\n",
    "\n",
    "print(\"Pinned center: ({:.2f}, {:.2f})\".format(*pin_center))"
   ]
  },
  {
   "cell_type": "code",
   "execution_count": null,
   "metadata": {},
   "outputs": [],
   "source": [
    "# Set zoom level to better center the map\n",
    "lat_min, lat_max, lon_min, lon_max = utils.zoom(\n",
    "    lat_min,\n",
    "    lat_max,\n",
    "    lon_min,\n",
    "    lon_max,\n",
    "    pin_center,\n",
    "    zoom_level=0.9\n",
    ")\n",
    "print(f\"Lat range: {lat_min:.2f} to {lat_max:.2f}\")\n",
    "print(f\"Lon range: {lon_max:.2f} to {lon_max:.2f}\")"
   ]
  },
  {
   "cell_type": "code",
   "execution_count": null,
   "metadata": {},
   "outputs": [],
   "source": [
    "# Set figure size to display here\n",
    "reduce_factor = 45\n",
    "figsize = tuple(np.array(PAPER_SIZE) / reduce_factor)\n",
    "\n",
    "# Plot the poster\n",
    "fig, ax = utils.plot_poster(\n",
    "    features,\n",
    "    lat_lim=(lat_min, lat_max),\n",
    "    lon_lim=(lon_min, lon_max),\n",
    "    figsize=figsize,\n",
    "    show_axis=True,  # Use this for debugging. Set to False for final version\n",
    ")\n",
    "\n",
    "fig.show()"
   ]
  },
  {
   "cell_type": "code",
   "execution_count": null,
   "metadata": {},
   "outputs": [],
   "source": [
    "(lat_max - lat_min) / (lon_max - lon_min)"
   ]
  },
  {
   "cell_type": "code",
   "execution_count": null,
   "metadata": {},
   "outputs": [],
   "source": []
  }
 ],
 "metadata": {
  "kernelspec": {
   "display_name": "cityposters",
   "language": "python",
   "name": "python3"
  },
  "language_info": {
   "codemirror_mode": {
    "name": "ipython",
    "version": 3
   },
   "file_extension": ".py",
   "mimetype": "text/x-python",
   "name": "python",
   "nbconvert_exporter": "python",
   "pygments_lexer": "ipython3",
   "version": "3.11.7"
  },
  "orig_nbformat": 4
 },
 "nbformat": 4,
 "nbformat_minor": 2
}
